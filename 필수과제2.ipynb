{
 "cells": [
  {
   "cell_type": "code",
   "execution_count": null,
   "metadata": {},
   "outputs": [
    {
     "name": "stdout",
     "output_type": "stream",
     "text": [
      "이름: 페이커\n",
      "성별: male\n",
      "나이: 28\n"
     ]
    }
   ],
   "source": [
    "class Person:  # person라는 클래스를 정의함.\n",
    "    def __init__(self, name, gender, age):  # 함수로 이름 성별 나이를 특정함.\n",
    "        self.name = name\n",
    "        self.gender = gender\n",
    "        self.age = age\n",
    "\n",
    "    def display_info(self): #매직매서드를 활용해서 출력.\n",
    "        print(f\"이름: {self.name}\")\n",
    "        print(f\"성별: {self.gender}\")\n",
    "        print(f\"나이: {self.age}\")\n",
    "\n",
    "\n",
    "name = \"페이커\"   #정보\n",
    "gender = \"male\"\n",
    "age = 28\n",
    "p = Person(name, gender, age)\n",
    "p1.display_info()"
   ]
  },
  {
   "cell_type": "code",
   "execution_count": null,
   "metadata": {},
   "outputs": [],
   "source": [
    "name = input(\"이름을 입력하세요\")\n",
    "gender = input(\"성별을 입력하세요\")\n",
    "age = input(\"나이를 입력하세요\")"
   ]
  },
  {
   "cell_type": "code",
   "execution_count": null,
   "metadata": {},
   "outputs": [],
   "source": []
  }
 ],
 "metadata": {
  "kernelspec": {
   "display_name": "Python 3",
   "language": "python",
   "name": "python3"
  },
  "language_info": {
   "codemirror_mode": {
    "name": "ipython",
    "version": 3
   },
   "file_extension": ".py",
   "mimetype": "text/x-python",
   "name": "python",
   "nbconvert_exporter": "python",
   "pygments_lexer": "ipython3",
   "version": "3.13.0"
  }
 },
 "nbformat": 4,
 "nbformat_minor": 2
}
